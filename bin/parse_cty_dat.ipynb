{
 "cells": [
  {
   "cell_type": "code",
   "execution_count": null,
   "id": "0",
   "metadata": {},
   "outputs": [],
   "source": [
    "from pathlib import Path\n",
    "import json"
   ]
  },
  {
   "cell_type": "code",
   "execution_count": null,
   "id": "1",
   "metadata": {},
   "outputs": [],
   "source": [
    "in_data = Path(\"cty.dat\").read_text().strip()"
   ]
  },
  {
   "cell_type": "code",
   "execution_count": null,
   "id": "2",
   "metadata": {},
   "outputs": [],
   "source": [
    "records_list = []\n",
    "current_country = None\n",
    "current_region = None\n",
    "callsign_mangle = []\n",
    "\n",
    "for row in in_data.split(\"\\n\"):\n",
    "    if not row.startswith(\" \"):\n",
    "        ## this is a country name row\n",
    "        ## append existing data to records\n",
    "        if current_country:\n",
    "            records_list.append((current_country, current_region, callsign_mangle))\n",
    "        ## update with new data\n",
    "        current_country = row.split(\":\", 1)[0]\n",
    "        current_region = row.split(\":  \")[3]\n",
    "        callsign_mangle = []\n",
    "        continue\n",
    "    if row.startswith(\" \"):\n",
    "        callsign_mangle.extend(\n",
    "            list(\n",
    "                filter(lambda x: \"(\" not in x,\n",
    "                filter(lambda x: \"[\" not in x,\n",
    "                filter(len,\n",
    "                filter(lambda x: not x.startswith(\"=\"), [y.strip().replace(\";\", \"\") for y in row.strip().split(\",\")])\n",
    "            ))))\n",
    "        )"
   ]
  },
  {
   "cell_type": "code",
   "execution_count": null,
   "id": "3",
   "metadata": {},
   "outputs": [],
   "source": [
    "records_list"
   ]
  },
  {
   "cell_type": "code",
   "execution_count": null,
   "id": "4",
   "metadata": {},
   "outputs": [],
   "source": [
    "with open(\"../res/callsign_ref.json\", \"w\") as outjson:\n",
    "    outjson.write(json.dumps({\n",
    "        country: {\"region\": region, \"callsigns\": [f\"^{x}\" for x in callsigns]} \n",
    "        for country, region, callsigns\n",
    "        in filter(len, records_list)\n",
    "    }, indent=4))"
   ]
  }
 ],
 "metadata": {
  "kernelspec": {
   "display_name": "base",
   "language": "python",
   "name": "python3"
  },
  "language_info": {
   "codemirror_mode": {
    "name": "ipython",
    "version": 3
   },
   "file_extension": ".py",
   "mimetype": "text/x-python",
   "name": "python",
   "nbconvert_exporter": "python",
   "pygments_lexer": "ipython3",
   "version": "3.12.2"
  }
 },
 "nbformat": 4,
 "nbformat_minor": 5
}
